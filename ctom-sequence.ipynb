{
 "cells": [
  {
   "cell_type": "code",
   "execution_count": 109,
   "metadata": {},
   "outputs": [],
   "source": [
    "import random\n",
    "import json"
   ]
  },
  {
   "cell_type": "code",
   "execution_count": 33,
   "metadata": {},
   "outputs": [],
   "source": [
    "stimuli = [\"face\",\"video\",\"convo\",\"partner\"]\n",
    "targets = [x for x in range(1,15)]\n",
    "shuffled_targets = targets.copy()\n",
    "random.shuffle(shuffled_targets)\n",
    "traits = [\"Bossy\",\"Easygoing\",\"Passive\"]\n",
    "ctom_dict = {}\n",
    "\n",
    "blocks = [\"Block\"+str(x) for x in range(1,8)]\n",
    "stim_combos = []\n",
    "\n",
    "def trait_shuffler():\n",
    "    random.shuffle(traits)\n",
    "    for i in stimuli:\n",
    "        for j in traits:\n",
    "            stim_combos.append(i + j)\n",
    "    return(stim_combos)\n",
    "\n",
    "defaults = [0] * 12\n",
    "\n",
    "stim_ratings = dict(zip(stim_combos,defaults))\n",
    "\n",
    "for i in blocks:\n",
    "    ctom_dict[str(i)] = {}\n",
    "\n",
    "index=0\n",
    "for i in range(2):\n",
    "    for key in ctom_dict:\n",
    "        ctom_dict[key][\"target\"+str(shuffled_targets[index])] = {}\n",
    "        index += 1\n",
    "\n",
    "for keys in ctom_dict:\n",
    "   for k in ctom_dict[keys].keys():\n",
    "       stim_combos = []\n",
    "       trait_shuffler()\n",
    "       stim_ratings = dict(zip(stim_combos,defaults))\n",
    "       ctom_dict[keys][k] = stim_ratings"
   ]
  },
  {
   "cell_type": "code",
   "execution_count": 110,
   "metadata": {},
   "outputs": [],
   "source": [
    "with open('ctom-trials.json', 'w') as fp:\n",
    "    json.dump(ctom_dict, fp)"
   ]
  }
 ],
 "metadata": {
  "interpreter": {
   "hash": "aee8b7b246df8f9039afb4144a1f6fd8d2ca17a180786b69acc140d282b71a49"
  },
  "kernelspec": {
   "display_name": "Python 3.10.8 64-bit",
   "language": "python",
   "name": "python3"
  },
  "language_info": {
   "codemirror_mode": {
    "name": "ipython",
    "version": 3
   },
   "file_extension": ".py",
   "mimetype": "text/x-python",
   "name": "python",
   "nbconvert_exporter": "python",
   "pygments_lexer": "ipython3",
   "version": "3.9.13"
  },
  "orig_nbformat": 4
 },
 "nbformat": 4,
 "nbformat_minor": 2
}
